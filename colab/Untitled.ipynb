{
 "cells": [
  {
   "cell_type": "code",
   "execution_count": null,
   "id": "b4808f27",
   "metadata": {},
   "outputs": [],
   "source": [
    "#Mount Google Drive\n",
    "from google.colab import drive\n",
    "drive.mount('/content/drive')"
   ]
  },
  {
   "cell_type": "code",
   "execution_count": null,
   "id": "59f57a24",
   "metadata": {},
   "outputs": [],
   "source": [
    "#yt-dlp"
   ]
  },
  {
   "cell_type": "code",
   "execution_count": null,
   "id": "20d9480f",
   "metadata": {},
   "outputs": [],
   "source": [
    "!pip install --upgrade yt-dlp"
   ]
  },
  {
   "cell_type": "code",
   "execution_count": null,
   "id": "fa30037a",
   "metadata": {},
   "outputs": [],
   "source": [
    "%cd /path/to/your/folder  #change this into the path of your folder where you want to save too\n",
    "\n",
    "!yt-dlp https://youtu.be/url -S 'ext'"
   ]
  }
 ],
 "metadata": {
  "kernelspec": {
   "display_name": "Python 3",
   "language": "python",
   "name": "python3"
  },
  "language_info": {
   "codemirror_mode": {
    "name": "ipython",
    "version": 3
   },
   "file_extension": ".py",
   "mimetype": "text/x-python",
   "name": "python",
   "nbconvert_exporter": "python",
   "pygments_lexer": "ipython3",
   "version": "3.8.8"
  }
 },
 "nbformat": 4,
 "nbformat_minor": 5
}
